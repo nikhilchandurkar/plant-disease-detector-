{
 "cells": [
  {
   "cell_type": "code",
   "execution_count": null,
   "id": "5a806b55-3e81-479a-8134-19688860cec2",
   "metadata": {},
   "outputs": [],
   "source": []
  },
  {
   "cell_type": "code",
   "execution_count": 3,
   "id": "9b2f2b53-e255-4e23-99e5-8ae78f47cea8",
   "metadata": {},
   "outputs": [
    {
     "name": "stdout",
     "output_type": "stream",
     "text": [
      "⏱️ num_workers=0 -> First batch load time: 1.536 seconds\n",
      "⏱️ num_workers=2 -> First batch load time: 7.237 seconds\n",
      "⏱️ num_workers=4 -> First batch load time: 14.878 seconds\n",
      "⏱️ num_workers=8 -> First batch load time: 29.784 seconds\n"
     ]
    }
   ],
   "source": []
  },
  {
   "cell_type": "code",
   "execution_count": null,
   "id": "ac368f88-516e-4b65-bbc8-11285366e256",
   "metadata": {},
   "outputs": [],
   "source": []
  },
  {
   "cell_type": "code",
   "execution_count": null,
   "id": "ecd2f33f-a7d5-4c9c-a5cd-f034571630b5",
   "metadata": {},
   "outputs": [],
   "source": []
  },
  {
   "cell_type": "code",
   "execution_count": null,
   "id": "dcfb2b10-6866-4072-ac2e-30466244d2ae",
   "metadata": {},
   "outputs": [],
   "source": []
  },
  {
   "cell_type": "code",
   "execution_count": null,
   "id": "2f5b3daa-aae5-46ae-8b3b-9eaab89b6750",
   "metadata": {},
   "outputs": [],
   "source": []
  },
  {
   "cell_type": "code",
   "execution_count": null,
   "id": "658467b3-fd57-4608-982b-384b8282d210",
   "metadata": {},
   "outputs": [],
   "source": []
  },
  {
   "cell_type": "code",
   "execution_count": null,
   "id": "198c8a13-437f-4478-8d26-fbf071e784a1",
   "metadata": {},
   "outputs": [],
   "source": []
  },
  {
   "cell_type": "code",
   "execution_count": null,
   "id": "7c39f92e-7a3b-425d-bb08-334c2e028d5d",
   "metadata": {},
   "outputs": [],
   "source": []
  },
  {
   "cell_type": "code",
   "execution_count": null,
   "id": "29006de9-59aa-47ed-b09f-65394b5809a0",
   "metadata": {},
   "outputs": [],
   "source": []
  },
  {
   "cell_type": "code",
   "execution_count": null,
   "id": "ed98396f-95a2-44d6-887c-41d1c645ac42",
   "metadata": {},
   "outputs": [],
   "source": []
  },
  {
   "cell_type": "code",
   "execution_count": null,
   "id": "0065a3b3-0ff9-41b6-aeb9-3f5387e91e42",
   "metadata": {},
   "outputs": [],
   "source": [
    "import torch\n",
    "import torch.nn as nn\n",
    "import torch.optim as optim\n",
    "from torchvision import datasets, models, transforms\n",
    "from torch.utils.data import DataLoader\n",
    "from tqdm import tqdm\n",
    "import subprocess\n",
    "import time\n",
    "\n",
    "def print_gpu_temp():\n",
    "    try:\n",
    "        result = subprocess.check_output(\n",
    "            [\"nvidia-smi\", \"--query-gpu=temperature.gpu\", \"--format=csv,noheader,nounits\"]\n",
    "        )\n",
    "        temp = result.decode(\"utf-8\").strip()\n",
    "        print(f\"🌡️  GPU Temperature: {temp}°C\")\n",
    "    except Exception as e:\n",
    "        print(\"Could not retrieve GPU temperature:\", e)\n",
    "\n",
    "def main():\n",
    "    device = torch.device(\"cuda\" if torch.cuda.is_available() else \"cpu\")\n",
    "    torch.backends.cudnn.benchmark = True\n",
    "    print(\"Using device:\", device)\n",
    "    print_gpu_temp()\n",
    "\n",
    "    # Hyperparameters\n",
    "    batch_size = 48  # slightly lower to reduce heat\n",
    "    num_epochs = 30\n",
    "    learning_rate = 0.001\n",
    "\n",
    "    # Data transforms\n",
    "    transform = transforms.Compose([\n",
    "        transforms.Resize((224, 224)),\n",
    "        transforms.ToTensor(),\n",
    "        transforms.Normalize(mean=[0.485, 0.456, 0.406],\n",
    "                             std=[0.229, 0.224, 0.225])\n",
    "    ])\n",
    "\n",
    "    train_data = datasets.ImageFolder(\"data/PlantVillage/train\", transform=transform)\n",
    "    val_data = datasets.ImageFolder(\"data/PlantVillage/val\", transform=transform)\n",
    "\n",
    "    train_loader = DataLoader(train_data, batch_size=batch_size, shuffle=True, num_workers=4, pin_memory=True)\n",
    "    val_loader = DataLoader(val_data, batch_size=batch_size, shuffle=False, num_workers=4, pin_memory=True)\n",
    "\n",
    "    model = models.resnet50(weights=models.ResNet50_Weights.DEFAULT)\n",
    "    num_classes = len(train_data.classes)\n",
    "    model.fc = nn.Linear(model.fc.in_features, num_classes)\n",
    "    model = model.to(device)\n",
    "\n",
    "    criterion = nn.CrossEntropyLoss()\n",
    "    optimizer = optim.Adam(model.parameters(), lr=learning_rate)\n",
    "\n",
    "    scaler = torch.cuda.amp.GradScaler()\n",
    "\n",
    "    for epoch in range(num_epochs):\n",
    "        model.train()\n",
    "        total_loss = 0\n",
    "        correct = 0\n",
    "        total = 0\n",
    "        loop = tqdm(train_loader, desc=f\"Epoch [{epoch+1}/{num_epochs}]\")\n",
    "        for images, labels in loop:\n",
    "            images, labels = images.to(device), labels.to(device)\n",
    "\n",
    "            with torch.cuda.amp.autocast():  # Mixed precision\n",
    "                outputs = model(images)\n",
    "                loss = criterion(outputs, labels)\n",
    "            optimizer.zero_grad()\n",
    "            scaler.scale(loss).backward()\n",
    "            scaler.step(optimizer)\n",
    "            scaler.update()\n",
    "            total_loss += loss.item()\n",
    "            _, predicted = torch.max(outputs.data, 1)\n",
    "            total += labels.size(0)\n",
    "            correct += (predicted == labels).sum().item()\n",
    "            loop.set_postfix(loss=loss.item(), acc=100. * correct / total)\n",
    "\n",
    "        print(f\"Epoch [{epoch+1}/{num_epochs}] => Loss: {total_loss/len(train_loader):.4f}, Accuracy: {100 * correct / total:.2f}%\")\n",
    "        print_gpu_temp()\n",
    "        time.sleep(3)  \n",
    "\n",
    "    torch.save(model, \"plant_disease_model.pth\")\n",
    "    print(\"✅ Model saved to 'plant_disease_model.pth'\")\n",
    "\n",
    "if __name__ == \"__main__\":\n",
    "    main()"
   ]
  }
 ],
 "metadata": {
  "kernelspec": {
   "display_name": "Python 3 (ipykernel)",
   "language": "python",
   "name": "python3"
  },
  "language_info": {
   "codemirror_mode": {
    "name": "ipython",
    "version": 3
   },
   "file_extension": ".py",
   "mimetype": "text/x-python",
   "name": "python",
   "nbconvert_exporter": "python",
   "pygments_lexer": "ipython3",
   "version": "3.12.7"
  }
 },
 "nbformat": 4,
 "nbformat_minor": 5
}
